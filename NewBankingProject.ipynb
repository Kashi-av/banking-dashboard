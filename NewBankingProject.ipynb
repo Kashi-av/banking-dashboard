{
 "cells": [
  {
   "cell_type": "code",
   "execution_count": 2,
   "id": "0ce8c84f-becb-4293-95ab-68b9a9f736f6",
   "metadata": {},
   "outputs": [
    {
     "name": "stdout",
     "output_type": "stream",
     "text": [
      "Requirement already satisfied: pyodbc in c:\\users\\avani\\anaconda3\\lib\\site-packages (5.0.1)\n",
      "Requirement already satisfied: pandas in c:\\users\\avani\\anaconda3\\lib\\site-packages (2.2.2)\n",
      "Requirement already satisfied: numpy>=1.26.0 in c:\\users\\avani\\anaconda3\\lib\\site-packages (from pandas) (1.26.4)\n",
      "Requirement already satisfied: python-dateutil>=2.8.2 in c:\\users\\avani\\anaconda3\\lib\\site-packages (from pandas) (2.9.0.post0)\n",
      "Requirement already satisfied: pytz>=2020.1 in c:\\users\\avani\\anaconda3\\lib\\site-packages (from pandas) (2024.1)\n",
      "Requirement already satisfied: tzdata>=2022.7 in c:\\users\\avani\\anaconda3\\lib\\site-packages (from pandas) (2023.3)\n",
      "Requirement already satisfied: six>=1.5 in c:\\users\\avani\\anaconda3\\lib\\site-packages (from python-dateutil>=2.8.2->pandas) (1.16.0)\n",
      "Note: you may need to restart the kernel to use updated packages.\n"
     ]
    }
   ],
   "source": [
    "pip install pyodbc pandas"
   ]
  },
  {
   "cell_type": "code",
   "execution_count": 3,
   "id": "26aea03d-9afd-48f7-ab04-31e2780993e5",
   "metadata": {},
   "outputs": [],
   "source": [
    "import pyodbc"
   ]
  },
  {
   "cell_type": "code",
   "execution_count": 4,
   "id": "8c964ded-ef63-4cee-91eb-8c7f9929a952",
   "metadata": {},
   "outputs": [],
   "source": [
    "conn = pyodbc.connect(\n",
    "    'DRIVER={SQL Server};SERVER=HARIOM\\\\SQLEXPRESS;DATABASE=NewBankingProject;Trusted_Connection=yes'\n",
    ")"
   ]
  },
  {
   "cell_type": "code",
   "execution_count": 5,
   "id": "fdea67e7-abcf-4584-8760-f1d1767e295d",
   "metadata": {},
   "outputs": [
    {
     "name": "stdout",
     "output_type": "stream",
     "text": [
      "Connected! Current SQL Server time: 2025-08-02 22:07:57.850000\n"
     ]
    }
   ],
   "source": [
    "cursor = conn.cursor()\n",
    "cursor.execute(\"SELECT GETDATE()\")\n",
    "print(\"Connected! Current SQL Server time:\", cursor.fetchone()[0])"
   ]
  },
  {
   "cell_type": "code",
   "execution_count": 6,
   "id": "82d11688-36f7-4ea3-994b-e0f4bb9213fb",
   "metadata": {},
   "outputs": [
    {
     "name": "stdout",
     "output_type": "stream",
     "text": [
      "Customers\n",
      "Accounts\n",
      "Transactions\n"
     ]
    }
   ],
   "source": [
    "cursor = conn.cursor()\n",
    "cursor.execute(\"SELECT name FROM sys.tables\")\n",
    "tables = cursor.fetchall()\n",
    "for table in tables:\n",
    "    print(table[0])"
   ]
  },
  {
   "cell_type": "code",
   "execution_count": 10,
   "id": "49494e96-ac9c-4e3a-8361-bb84434930cf",
   "metadata": {},
   "outputs": [
    {
     "name": "stdout",
     "output_type": "stream",
     "text": [
      "(101, 1, 'Savings', Decimal('15000.00'))\n",
      "(102, 1, 'Current', Decimal('25000.00'))\n",
      "(103, 2, 'Savings', Decimal('12000.00'))\n",
      "(104, 3, 'Savings', Decimal('8000.00'))\n",
      "(105, 4, 'Current', Decimal('50000.00'))\n"
     ]
    }
   ],
   "source": [
    "cursor.execute(\"SELECT TOP 5 * FROM Accounts\")\n",
    "for row in cursor.fetchall():\n",
    "    print(row)"
   ]
  },
  {
   "cell_type": "code",
   "execution_count": 15,
   "id": "fae7aa5b-4d9f-46c9-b758-2406aaa2dd06",
   "metadata": {},
   "outputs": [
    {
     "name": "stdout",
     "output_type": "stream",
     "text": [
      "   CustomerID            Name                   Email       Phone\n",
      "0           1   Avanit Sharma      avanit@example.com  9876543210\n",
      "1           2     Priya Mehta       priya@example.com  9123456789\n",
      "2           3      Ravi Kumar        ravi@example.com  9988776655\n",
      "3           4    Aniket Singh    aniket23@example.com  8972000021\n",
      "4           5  Ravinder Verma  ravinder23@example.com  8844611410\n"
     ]
    },
    {
     "name": "stderr",
     "output_type": "stream",
     "text": [
      "C:\\Users\\avani\\AppData\\Local\\Temp\\ipykernel_14664\\2103531817.py:3: UserWarning: pandas only supports SQLAlchemy connectable (engine/connection) or database string URI or sqlite3 DBAPI2 connection. Other DBAPI2 objects are not tested. Please consider using SQLAlchemy.\n",
      "  df = pd.read_sql(\"SELECT * FROM Customers\", conn)\n"
     ]
    }
   ],
   "source": [
    "import pandas as pd\n",
    "\n",
    "df = pd.read_sql(\"SELECT * FROM Customers\", conn)\n",
    "print(df.head())"
   ]
  }
 ],
 "metadata": {
  "kernelspec": {
   "display_name": "Python 3 (ipykernel)",
   "language": "python",
   "name": "python3"
  },
  "language_info": {
   "codemirror_mode": {
    "name": "ipython",
    "version": 3
   },
   "file_extension": ".py",
   "mimetype": "text/x-python",
   "name": "python",
   "nbconvert_exporter": "python",
   "pygments_lexer": "ipython3",
   "version": "3.12.4"
  }
 },
 "nbformat": 4,
 "nbformat_minor": 5
}
